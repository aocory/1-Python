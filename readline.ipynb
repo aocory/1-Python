{
  "nbformat": 4,
  "nbformat_minor": 0,
  "metadata": {
    "colab": {
      "name": "readline.ipynb",
      "version": "0.3.2",
      "provenance": [],
      "collapsed_sections": [],
      "include_colab_link": true
    },
    "kernelspec": {
      "name": "python3",
      "display_name": "Python 3"
    }
  },
  "cells": [
    {
      "cell_type": "markdown",
      "metadata": {
        "id": "view-in-github",
        "colab_type": "text"
      },
      "source": [
        "<a href=\"https://colab.research.google.com/github/aocory/1-Python/blob/master/readline.ipynb\" target=\"_parent\"><img src=\"https://colab.research.google.com/assets/colab-badge.svg\" alt=\"Open In Colab\"/></a>"
      ]
    },
    {
      "cell_type": "markdown",
      "metadata": {
        "id": "0-CXWBa9sEpy",
        "colab_type": "text"
      },
      "source": [
        "# 1分で学ぶPython\n",
        "## ファイルから1行読み込むreadline\n",
        "\n",
        "ファイルから1行全体を読み取ります。\n",
        "\n",
        "末尾の改行文字は文字列内に保持されます。\n",
        "\n",
        "size引数が存在し、負でない場合、最大バイト数が返されることがあります。\n",
        "\n",
        "sizeに0を指定しないと、EOFが直ちに検出された場合にのみ空の文字列が返されます。\n",
        "\n",
        "## readline()の構文\n",
        "\n",
        "```python\n",
        "file.readline(size)\n",
        "```\n",
        "\n",
        "### readline()の引数\n",
        "\n",
        "size:オプション。返される行のバイト数。全体を意味するデフォルトの-1と入力します。\n",
        "\n",
        "https://oneminutepython.com/file/file_readline.html\n"
      ]
    },
    {
      "cell_type": "code",
      "metadata": {
        "id": "A1QFUnfMpPXR",
        "colab_type": "code",
        "outputId": "1734cd4c-8573-48f2-d716-1c576625f3e3",
        "colab": {
          "base_uri": "https://localhost:8080/",
          "height": 52
        }
      },
      "source": [
        " f = open(\"sample.txt\", \"r\")\n",
        " print(f.readline())"
      ],
      "execution_count": 0,
      "outputs": [
        {
          "output_type": "stream",
          "text": [
            "1111111sdfb\n",
            "\n"
          ],
          "name": "stdout"
        }
      ]
    },
    {
      "cell_type": "code",
      "metadata": {
        "id": "nkkNsOhDp42e",
        "colab_type": "code",
        "outputId": "145e6b75-1872-497b-cabf-2f4f8eb92210",
        "colab": {
          "base_uri": "https://localhost:8080/",
          "height": 88
        }
      },
      "source": [
        "f = open(\"sample.txt\", \"r\")\n",
        "print(f.readline())\n",
        "print(f.readline())"
      ],
      "execution_count": 0,
      "outputs": [
        {
          "output_type": "stream",
          "text": [
            "1111111sdfb\n",
            "\n",
            "22\n",
            "\n"
          ],
          "name": "stdout"
        }
      ]
    },
    {
      "cell_type": "code",
      "metadata": {
        "id": "thQ2NV3Xp8-x",
        "colab_type": "code",
        "outputId": "e8bf5155-8da0-4e91-ec32-646421b296ce",
        "colab": {
          "base_uri": "https://localhost:8080/",
          "height": 35
        }
      },
      "source": [
        "f = open(\"sample.txt\", \"r\")\n",
        "print(f.readline(3))"
      ],
      "execution_count": 0,
      "outputs": [
        {
          "output_type": "stream",
          "text": [
            "111\n"
          ],
          "name": "stdout"
        }
      ]
    }
  ]
}